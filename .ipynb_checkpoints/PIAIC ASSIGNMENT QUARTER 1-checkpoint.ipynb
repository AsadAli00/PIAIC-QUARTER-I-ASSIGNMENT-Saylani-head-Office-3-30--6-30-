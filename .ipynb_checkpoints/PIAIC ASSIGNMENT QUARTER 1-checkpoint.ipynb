{
 "cells": [
  {
   "cell_type": "markdown",
   "metadata": {},
   "source": [
    "# Python Programming Assignment 1\n",
    "# Quarter 1\n",
    "# AI-101 Fundamentals of Programming "
   ]
  },
  {
   "cell_type": "markdown",
   "metadata": {},
   "source": [
    "## name: Asad Ali\n",
    "## Roll number : Aic031129\n",
    "## Center : Saylani head Office(Buhadrabad)\n",
    "## Day / Time : Saturday (3:30- 6:30)\n",
    "## Teacher : Sir Muhammad Qasim\n",
    "## Batch 1\n",
    "\n"
   ]
  },
  {
   "cell_type": "markdown",
   "metadata": {},
   "source": [
    "# 1. Calculate Area of Circle"
   ]
  },
  {
   "cell_type": "code",
   "execution_count": 1,
   "metadata": {},
   "outputs": [
    {
     "name": "stdout",
     "output_type": "stream",
     "text": [
      "enter Radius of Circle=12.3\n",
      "Area of Circle is : 475.35318\n"
     ]
    }
   ],
   "source": [
    "a = float(input(\"enter Radius of Circle=\"))\n",
    "print(\"Area of Circle is :\",3.142* a * a)"
   ]
  },
  {
   "cell_type": "markdown",
   "metadata": {},
   "source": [
    "# 2. Check Number Either Positive, Negative , Zero"
   ]
  },
  {
   "cell_type": "code",
   "execution_count": 7,
   "metadata": {},
   "outputs": [
    {
     "name": "stdout",
     "output_type": "stream",
     "text": [
      "Print any Number =23\n",
      "This is positive Number:\n"
     ]
    }
   ],
   "source": [
    "a = int(input(\"Print any Number =\"))\n",
    "if a>0 :\n",
    "    print(\"This is positive Number:\")\n",
    "elif a<0 :\n",
    "    print(\"This is Negative Number:\")\n",
    "else :\n",
    "    print(\"This is Zero\")"
   ]
  },
  {
   "cell_type": "code",
   "execution_count": 10,
   "metadata": {},
   "outputs": [
    {
     "name": "stdout",
     "output_type": "stream",
     "text": [
      "Print any Number =-34\n",
      "This is Negative Number:\n"
     ]
    }
   ],
   "source": [
    "a = int(input(\"Print any Number =\"))\n",
    "if a>0 :\n",
    "    print(\"This is positive Number:\")\n",
    "elif a<0 :\n",
    "    print(\"This is Negative Number:\")\n",
    "else :\n",
    "    print(\"This is Zero\")"
   ]
  },
  {
   "cell_type": "code",
   "execution_count": 9,
   "metadata": {},
   "outputs": [
    {
     "name": "stdout",
     "output_type": "stream",
     "text": [
      "Print any Number =0\n",
      "This is Zero\n"
     ]
    }
   ],
   "source": [
    "a = int(input(\"Print any Number =\"))\n",
    "if a>0 :\n",
    "    print(\"This is positive Number:\")\n",
    "elif a<0 :\n",
    "    print(\"This is Negative Number:\")\n",
    "else :\n",
    "    print(\"This is Zero\")"
   ]
  },
  {
   "cell_type": "markdown",
   "metadata": {},
   "source": [
    "# 3. Divisibility check of two Number"
   ]
  },
  {
   "cell_type": "code",
   "execution_count": 12,
   "metadata": {},
   "outputs": [
    {
     "name": "stdout",
     "output_type": "stream",
     "text": [
      "Enter any Number 1 :34\n",
      "Enter any Number 2 :2\n",
      "Number 34 is completely divisible by number 2\n"
     ]
    }
   ],
   "source": [
    "a = int(input(\"Enter any Number 1 :\"))\n",
    "b = int(input(\"Enter any Number 2 :\"))\n",
    "if a % b ==0 :\n",
    "    print(\"Number\",a,\"is completely divisible by number\",b)\n",
    "else :\n",
    "    print(\"Number\",a,\"is not completely divisible by number\",b)"
   ]
  },
  {
   "cell_type": "code",
   "execution_count": 13,
   "metadata": {},
   "outputs": [
    {
     "name": "stdout",
     "output_type": "stream",
     "text": [
      "Enter any Number 1 :34\n",
      "Enter any Number 2 :5\n",
      "Number 34 is not completely divisible by number 5\n"
     ]
    }
   ],
   "source": [
    "a = int(input(\"Enter any Number 1 :\"))\n",
    "b = int(input(\"Enter any Number 2 :\"))\n",
    "if a % b ==0 :\n",
    "    print(\"Number\",a,\"is completely divisible by number\",b)\n",
    "else :\n",
    "    print(\"Number\",a,\"is not completely divisible by number\",b)"
   ]
  },
  {
   "cell_type": "markdown",
   "metadata": {},
   "source": [
    "# 4. Days Calculator\n"
   ]
  },
  {
   "cell_type": "code",
   "execution_count": 14,
   "metadata": {},
   "outputs": [
    {
     "name": "stdout",
     "output_type": "stream",
     "text": [
      "Enter a date in (dd/mm/yy) Format: 12/2/2018\n",
      "Enter a date in (dd/mm/yy) Format: 13/2/2018\n",
      "There are 1 days in Between 12/2/2018 and 13/2/2018\n"
     ]
    }
   ],
   "source": [
    "from datetime import datetime\n",
    "date_format = \"%d/%m/%Y\"\n",
    "e = input(\"Enter a date in (dd/mm/yy) Format: \")\n",
    "f = input(\"Enter a date in (dd/mm/yy) Format: \")\n",
    "a = datetime.strptime( e , date_format)\n",
    "b = datetime.strptime( f , date_format)\n",
    "delta = b - a\n",
    "print (\"There are\", delta.days, \"days in Between\", e , \"and\" , f)"
   ]
  },
  {
   "cell_type": "markdown",
   "metadata": {},
   "source": [
    "# 5. Calculate Volume of Sphere"
   ]
  },
  {
   "cell_type": "code",
   "execution_count": 23,
   "metadata": {},
   "outputs": [
    {
     "name": "stdout",
     "output_type": "stream",
     "text": [
      "Enter the Radius of Sphere: 12\n",
      "Volume of the Sphere with radius 12 is: 7238.229474816\n"
     ]
    }
   ],
   "source": [
    "a = int(input(\"Enter the Radius of Sphere: \"))\n",
    "print(\"Volume of the Sphere with radius\" , a , \"is:\", 4 / 3 * 3.141592654 * a * a * a)"
   ]
  },
  {
   "cell_type": "markdown",
   "metadata": {},
   "source": [
    "# 6. Copy String N Time"
   ]
  },
  {
   "cell_type": "code",
   "execution_count": 25,
   "metadata": {},
   "outputs": [
    {
     "name": "stdout",
     "output_type": "stream",
     "text": [
      "Enter string: Asad \n",
      "How many Copies of String you need: 7\n",
      "Asad  Copies of 7 are : Asad Asad Asad Asad Asad Asad Asad \n"
     ]
    }
   ],
   "source": [
    "x = str(input(\"Enter string: \"))\n",
    "y = int(input(\"How many Copies of String you need: \"))\n",
    "if  y > 0:\n",
    "    print(x,\"Copies of\",y, \"are :\" ,  x * y)        \n",
    "else:\n",
    "    print(\"you Entered Invalid number of Copies:\")"
   ]
  },
  {
   "cell_type": "markdown",
   "metadata": {},
   "source": [
    "# 7. Checking If Number is Even or Odd:"
   ]
  },
  {
   "cell_type": "code",
   "execution_count": 26,
   "metadata": {},
   "outputs": [
    {
     "name": "stdout",
     "output_type": "stream",
     "text": [
      "Enter Number: 3\n",
      "3 is Odd\n"
     ]
    }
   ],
   "source": [
    "a = int(input(\"Enter Number: \"))\n",
    "if a % 2 == 0:\n",
    "    print(a, \"is Even\")\n",
    "else:\n",
    "    print(a, \"is Odd\")"
   ]
  },
  {
   "cell_type": "code",
   "execution_count": 27,
   "metadata": {},
   "outputs": [
    {
     "name": "stdout",
     "output_type": "stream",
     "text": [
      "Enter Number: 6\n",
      "6 is Even\n"
     ]
    }
   ],
   "source": [
    "a = int(input(\"Enter Number: \"))\n",
    "if a % 2 == 0:\n",
    "    print(a, \"is Even\")\n",
    "else:\n",
    "    print(a, \"is Odd\")"
   ]
  },
  {
   "cell_type": "markdown",
   "metadata": {},
   "source": [
    "# 8. Vowel Tester:"
   ]
  },
  {
   "cell_type": "code",
   "execution_count": 28,
   "metadata": {},
   "outputs": [
    {
     "name": "stdout",
     "output_type": "stream",
     "text": [
      "Enter Character: d\n",
      "d is not Vowel\n"
     ]
    }
   ],
   "source": [
    "a = input(\"Enter Character: \")\n",
    "b = a.lower()\n",
    "if a == \"a\" or a == \"e\" or a == \"i\" or a == \"o\" or a == \"u\" :\n",
    "    print(b, \"is Vowel\")\n",
    "else:\n",
    "    print(b, \"is not Vowel\")"
   ]
  },
  {
   "cell_type": "code",
   "execution_count": 29,
   "metadata": {},
   "outputs": [
    {
     "name": "stdout",
     "output_type": "stream",
     "text": [
      "Enter Character: a\n",
      "a is Vowel\n"
     ]
    }
   ],
   "source": [
    "a = input(\"Enter Character: \")\n",
    "b = a.lower()\n",
    "if a == \"a\" or a == \"e\" or a == \"i\" or a == \"o\" or a == \"u\" :\n",
    "    print(b, \"is Vowel\")\n",
    "else:\n",
    "    print(b, \"is not Vowel\")"
   ]
  },
  {
   "cell_type": "code",
   "execution_count": 30,
   "metadata": {},
   "outputs": [
    {
     "name": "stdout",
     "output_type": "stream",
     "text": [
      "Enter Character: o\n",
      "o is Vowel\n"
     ]
    }
   ],
   "source": [
    "a = input(\"Enter Character: \")\n",
    "b = a.lower()\n",
    "if a == \"a\" or a == \"e\" or a == \"i\" or a == \"o\" or a == \"u\" :\n",
    "    print(b, \"is Vowel\")\n",
    "else:\n",
    "    print(b, \"is not Vowel\")"
   ]
  },
  {
   "cell_type": "markdown",
   "metadata": {},
   "source": [
    "# 9. Triangle Area:"
   ]
  },
  {
   "cell_type": "code",
   "execution_count": 31,
   "metadata": {},
   "outputs": [
    {
     "name": "stdout",
     "output_type": "stream",
     "text": [
      "Enter Magnitude of Triangle Base:34\n",
      "Enter Magnitude of Triangle Height:23\n",
      "Area of a Triangle with Height 23 and Base 34  : 391.0\n"
     ]
    }
   ],
   "source": [
    "a = int(input(\"Enter Magnitude of Triangle Base:\"))\n",
    "b = int(input(\"Enter Magnitude of Triangle Height:\"))\n",
    "print(\"Area of a Triangle with Height\",b,\"and Base\",a,\" :\", a * b / 2)"
   ]
  },
  {
   "cell_type": "markdown",
   "metadata": {},
   "source": [
    "# 10. Claculate Interest "
   ]
  },
  {
   "cell_type": "code",
   "execution_count": 32,
   "metadata": {},
   "outputs": [
    {
     "name": "stdout",
     "output_type": "stream",
     "text": [
      "Please Enter Principle Amount: 20000\n",
      "Please Enter rate of interest in %: 0.5\n",
      "Enter Number of years for Investment: 10\n",
      "After 10 years your principal amount 20000 over an interest rate of 0.5 % will be 576650.390625\n"
     ]
    }
   ],
   "source": [
    "a = int(input(\"Please Enter Principle Amount: \"))\n",
    "b = float(input(\"Please Enter rate of interest in %: \"))\n",
    "c = int(input(\"Enter Number of years for Investment: \"))\n",
    "e = 0\n",
    "f = a * b\n",
    "while e < c:\n",
    "    f += f * b \n",
    "    e += 1\n",
    "print(\"After\",c,\"years your principal amount\",a,\"over an interest rate of\",b,\"% will be\",f)"
   ]
  },
  {
   "cell_type": "markdown",
   "metadata": {},
   "source": [
    "# 11. Euclidean Distance:"
   ]
  },
  {
   "cell_type": "code",
   "execution_count": 33,
   "metadata": {},
   "outputs": [
    {
     "name": "stdout",
     "output_type": "stream",
     "text": [
      "Enter Co-ordinate for X1: 3\n",
      "Enter Co-ordinate for X2: 4\n",
      "Enter Co-ordinate for Y1: 6\n",
      "Enter Co-ordinate for Y2: 8\n",
      "Distance Between Points ( 3 , 6 ) and ( 4 , 8 ) is:  2.23606797749979\n"
     ]
    }
   ],
   "source": [
    "import math\n",
    "a = int(input(\"Enter Co-ordinate for X1: \"))\n",
    "b = int(input(\"Enter Co-ordinate for X2: \"))\n",
    "c = int(input(\"Enter Co-ordinate for Y1: \"))\n",
    "d = int(input(\"Enter Co-ordinate for Y2: \"))\n",
    "g = (a - b)*(a - b) + (c - d)*(c - d)\n",
    "e = math.sqrt(g)\n",
    "print(\"Distance Between Points (\", a , \",\" , c , \") and (\" ,b, \",\" , d , \") is: \",e)"
   ]
  },
  {
   "cell_type": "markdown",
   "metadata": {},
   "source": [
    "# 12. Feet to Centimeter Converter:"
   ]
  },
  {
   "cell_type": "code",
   "execution_count": 34,
   "metadata": {},
   "outputs": [
    {
     "name": "stdout",
     "output_type": "stream",
     "text": [
      "Enter Height in Feet: 77\n",
      "There are 2346.96 cm in 77.0 ft\n"
     ]
    }
   ],
   "source": [
    "a = float(input(\"Enter Height in Feet: \"))\n",
    "print(\"There are\", a * 30.48,\"cm\",\"in\",a,\"ft\" )"
   ]
  },
  {
   "cell_type": "markdown",
   "metadata": {},
   "source": [
    "# 13. BMI Calculator:"
   ]
  },
  {
   "cell_type": "code",
   "execution_count": 35,
   "metadata": {},
   "outputs": [
    {
     "name": "stdout",
     "output_type": "stream",
     "text": [
      "Enter Your Height in CM: 124\n",
      "Enter Your Weight in KG: 70\n",
      "Your BMI is:  45.525494276795\n"
     ]
    }
   ],
   "source": [
    "a = float(input(\"Enter Your Height in CM: \"))\n",
    "b = float(input(\"Enter Your Weight in KG: \"))\n",
    "c = a * 0.01\n",
    "print(\"Your BMI is: \", b / (c * c))"
   ]
  },
  {
   "cell_type": "markdown",
   "metadata": {},
   "source": [
    "# 14. Sum of N Positive Integers:"
   ]
  },
  {
   "cell_type": "code",
   "execution_count": 36,
   "metadata": {},
   "outputs": [
    {
     "name": "stdout",
     "output_type": "stream",
     "text": [
      "Enter value of n: 10\n",
      "100\n"
     ]
    }
   ],
   "source": [
    "a = int(input(\"Enter value of n: \"))\n",
    "i = 1\n",
    "total = 0\n",
    "while i <= a:\n",
    "    total += a\n",
    "    i += 1 \n",
    "    \n",
    "print(total)"
   ]
  },
  {
   "cell_type": "markdown",
   "metadata": {},
   "source": [
    "# 15. Digits Sum of Numbers:"
   ]
  },
  {
   "cell_type": "code",
   "execution_count": 38,
   "metadata": {},
   "outputs": [
    {
     "name": "stdout",
     "output_type": "stream",
     "text": [
      "Enter a Number: 45\n",
      "Sum of 4+5 is:  9\n"
     ]
    }
   ],
   "source": [
    "a = str(input(\"Enter a Number: \"))\n",
    "b = 0 \n",
    "for x in a:\n",
    "    b += int(x)\n",
    "print(\"Sum of\", '+'.join(map(str,a)) ,\"is: \",b)"
   ]
  },
  {
   "cell_type": "markdown",
   "metadata": {},
   "source": [
    "# 16. Decimal To Binary Converter:"
   ]
  },
  {
   "cell_type": "code",
   "execution_count": 43,
   "metadata": {},
   "outputs": [
    {
     "name": "stdout",
     "output_type": "stream",
     "text": [
      "Enter a Decimal number: 4\n",
      "Binary Reperesentation of 4 is:  100\n"
     ]
    }
   ],
   "source": [
    "a = int(input(\"Enter a Decimal number: \"))\n",
    "e = bin(a)\n",
    "print(\"Binary Reperesentation of\",a,\"is: \", e[2:])"
   ]
  },
  {
   "cell_type": "markdown",
   "metadata": {},
   "source": [
    "# 18. Vowel and Consonants Counter:"
   ]
  },
  {
   "cell_type": "code",
   "execution_count": 46,
   "metadata": {},
   "outputs": [
    {
     "name": "stdout",
     "output_type": "stream",
     "text": [
      "Enter Text: abcdefghijklmnopqrstuvwxyz\n",
      "Vowels:  5\n",
      "Consonants:  21\n"
     ]
    }
   ],
   "source": [
    "a = input(\"Enter Text: \")\n",
    "c = a.lower()\n",
    "d = 0\n",
    "f = 0\n",
    "for x in c:\n",
    "    if x == \"a\" or x == \"e\" or x == \"i\" or x == \"o\" or x == \"u\":\n",
    "        d += 1\n",
    "    else:\n",
    "        f += 1\n",
    "print(\"Vowels: \",d)\n",
    "print(\"Consonants: \",f)"
   ]
  },
  {
   "cell_type": "markdown",
   "metadata": {},
   "source": [
    "# 19. Palindrome Tester:"
   ]
  },
  {
   "cell_type": "code",
   "execution_count": 47,
   "metadata": {},
   "outputs": [
    {
     "name": "stdout",
     "output_type": "stream",
     "text": [
      "Enter Text: hahahahaha\n",
      "Text  hahahahaha is Not Palindrome. \n"
     ]
    }
   ],
   "source": [
    "a = input(\"Enter Text: \")\n",
    "if a == a[::-1]:\n",
    "    print(\"Text\",a,\"is Palindrome. \")\n",
    "else:\n",
    "    print(\"Text \",a,\"is Not Palindrome. \")"
   ]
  },
  {
   "cell_type": "code",
   "execution_count": 48,
   "metadata": {},
   "outputs": [
    {
     "name": "stdout",
     "output_type": "stream",
     "text": [
      "Enter Text: wow\n",
      "Text wow is Palindrome. \n"
     ]
    }
   ],
   "source": [
    "a = input(\"Enter Text: \")\n",
    "if a == a[::-1]:\n",
    "    print(\"Text\",a,\"is Palindrome. \")\n",
    "else:\n",
    "    print(\"Text \",a,\"is Not Palindrome. \")"
   ]
  },
  {
   "cell_type": "markdown",
   "metadata": {},
   "source": [
    "# 20. Count Alphabets,Numbers and Special Characters:"
   ]
  },
  {
   "cell_type": "code",
   "execution_count": 49,
   "metadata": {},
   "outputs": [
    {
     "name": "stdout",
     "output_type": "stream",
     "text": [
      "Enter Text: Date : 14/6/2019\n",
      "Alphabets:           4\n",
      "Numbers:             7\n",
      "Special Characters:  3\n",
      "Space:               2\n"
     ]
    }
   ],
   "source": [
    "a = input(\"Enter Text: \")\n",
    "e = 0\n",
    "d = 0\n",
    "c = 0\n",
    "f = 0\n",
    "for x in a:\n",
    "    if int(ord(x)) >= 65 and int(ord(x)) <= 122:\n",
    "        e += 1\n",
    "    elif int(ord(x)) >= 48 and int(ord(x)) <= 57:\n",
    "        d += 1\n",
    "    elif x == \" \":\n",
    "        f += 1\n",
    "    else:\n",
    "        c += 1\n",
    "print(\"Alphabets:          \",e)\n",
    "print(\"Numbers:            \",d)\n",
    "print(\"Special Characters: \",c)\n",
    "print(\"Space:              \",f)"
   ]
  },
  {
   "cell_type": "markdown",
   "metadata": {},
   "source": [
    "# 21. Pattern 1:"
   ]
  },
  {
   "cell_type": "code",
   "execution_count": 50,
   "metadata": {},
   "outputs": [
    {
     "name": "stdout",
     "output_type": "stream",
     "text": [
      "*\n",
      "**\n",
      "***\n",
      "****\n",
      "*****\n",
      "******\n",
      "*******\n",
      "********\n",
      "*********\n",
      "**********\n"
     ]
    }
   ],
   "source": [
    "f = 1\n",
    "i = 0\n",
    "while i <= 9:\n",
    "    d = '*'\n",
    "    print(d * f)\n",
    "    f += 1\n",
    "    i += 1"
   ]
  },
  {
   "cell_type": "code",
   "execution_count": 1,
   "metadata": {},
   "outputs": [
    {
     "name": "stdout",
     "output_type": "stream",
     "text": [
      "*********\n",
      "********\n",
      "*******\n",
      "******\n",
      "*****\n",
      "****\n",
      "***\n",
      "**\n",
      "*\n",
      "\n"
     ]
    }
   ],
   "source": [
    "f = 9\n",
    "i = 0\n",
    "while i <= 9:\n",
    "    d = '*'\n",
    "    print(d * f)\n",
    "    f -= 1\n",
    "    i += 1"
   ]
  },
  {
   "cell_type": "code",
   "execution_count": 2,
   "metadata": {},
   "outputs": [
    {
     "name": "stdout",
     "output_type": "stream",
     "text": [
      "*\n",
      "**\n",
      "***\n",
      "****\n",
      "*****\n",
      "****\n",
      "***\n",
      "**\n",
      "*\n"
     ]
    }
   ],
   "source": [
    "f1 = 1\n",
    "i1 = 0\n",
    "f2 = 4\n",
    "i2 = 0\n",
    "while i1 <= 4:\n",
    "    d = '*'\n",
    "    print(d * f1)\n",
    "    f1 += 1\n",
    "    i1 += 1\n",
    "while i2 < 4:\n",
    "    d = '*'\n",
    "    print(d * f2)\n",
    "    f2 -= 1\n",
    "    i2 += 1"
   ]
  },
  {
   "cell_type": "markdown",
   "metadata": {},
   "source": [
    "# 22. Pattern 2"
   ]
  },
  {
   "cell_type": "code",
   "execution_count": 3,
   "metadata": {},
   "outputs": [
    {
     "name": "stdout",
     "output_type": "stream",
     "text": [
      "1  \n",
      "1 2  \n",
      "1 2 3  \n",
      "1 2 3 4  \n",
      "1 2 3 4 5  \n",
      "1 2 3 4  \n",
      "1 2 3  \n",
      "1 2  \n",
      "1  \n"
     ]
    }
   ],
   "source": [
    "i = 6\n",
    "d = 0\n",
    "for x in range(1,i):\n",
    "    for y in range(1, x + 1):\n",
    "        print (y , end = \" \")\n",
    "    print(\" \")\n",
    "for r in range(4,d,-1):\n",
    "    for c in range(1, r + 1):\n",
    "        print (c , end = \" \")\n",
    "    print(\" \")"
   ]
  },
  {
   "cell_type": "markdown",
   "metadata": {},
   "source": [
    "# 23 Pattern 3"
   ]
  },
  {
   "cell_type": "code",
   "execution_count": 4,
   "metadata": {},
   "outputs": [
    {
     "name": "stdout",
     "output_type": "stream",
     "text": [
      " \n",
      "1  \n",
      "2 2  \n",
      "3 3 3  \n",
      "4 4 4 4  \n",
      "5 5 5 5 5  \n",
      "6 6 6 6 6 6  \n",
      "7 7 7 7 7 7 7  \n",
      "8 8 8 8 8 8 8 8  \n",
      "9 9 9 9 9 9 9 9 9  \n"
     ]
    }
   ],
   "source": [
    "for i in range(10):\n",
    "    for f in range(i):\n",
    "        print(i, end = ' ')\n",
    "    print(\" \")"
   ]
  },
  {
   "cell_type": "code",
   "execution_count": null,
   "metadata": {},
   "outputs": [],
   "source": []
  }
 ],
 "metadata": {
  "kernelspec": {
   "display_name": "Python 3",
   "language": "python",
   "name": "python3"
  },
  "language_info": {
   "codemirror_mode": {
    "name": "ipython",
    "version": 3
   },
   "file_extension": ".py",
   "mimetype": "text/x-python",
   "name": "python",
   "nbconvert_exporter": "python",
   "pygments_lexer": "ipython3",
   "version": "3.7.3"
  }
 },
 "nbformat": 4,
 "nbformat_minor": 2
}
